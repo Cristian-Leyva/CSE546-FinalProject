{
 "cells": [
  {
   "cell_type": "markdown",
   "metadata": {},
   "source": [
    "# Example notebook\n",
    "## How to incorporate/use code from `common` module"
   ]
  },
  {
   "cell_type": "markdown",
   "metadata": {},
   "source": [
    "### Import functions from common module to use where relevant"
   ]
  },
  {
   "cell_type": "code",
   "execution_count": null,
   "metadata": {},
   "outputs": [],
   "source": [
    "from common import load_image, show_image, load_data, split_data, validation_scores, merge_results"
   ]
  },
  {
   "cell_type": "markdown",
   "metadata": {},
   "source": [
    "### Simple example usage of each function"
   ]
  },
  {
   "cell_type": "code",
   "execution_count": null,
   "metadata": {},
   "outputs": [],
   "source": [
    "from sklearn.preprocessing import StandardScaler\n",
    "from sklearn.svm import SVC\n",
    "from sklearn.pipeline import make_pipeline\n",
    "\n",
    "# Load data\n",
    "df = load_data()\n",
    "\n",
    "# Split data\n",
    "X_train, X_test, y_train, y_test = split_data(df)\n",
    "# Preview shape of split data\n",
    "print(X_train.shape, y_train.shape, X_test.shape, y_test.shape)"
   ]
  },
  {
   "cell_type": "code",
   "execution_count": null,
   "metadata": {},
   "outputs": [],
   "source": [
    "## Simple example of running an experiment\n",
    "# Create a pipeline\n",
    "pipe = make_pipeline(\n",
    "    StandardScaler(),\n",
    "    SVC(random_state=0, probability=True)\n",
    ")\n",
    "# Define parameters and options\n",
    "param_grid = {\n",
    "    'svc__C': [0.1, 1]\n",
    "}\n",
    "# Get results for grid search with each of the 3 required scoring metrics (detailed progress updates with verbose=3)\n",
    "results = validation_scores(pipe, param_grid, X_train, y_train, verbose=3)\n",
    "# Take a look at the validation results\n",
    "print('Validation results:')\n",
    "print(results)\n",
    "\n",
    "# Merge results into a unified dataframe (scorer will be new column)\n",
    "merged_df = merge_results(results)\n",
    "\n",
    "# Save merged results to CSV file\n",
    "merged_df.to_csv('example_results.csv', index=False)\n"
   ]
  },
  {
   "cell_type": "code",
   "execution_count": null,
   "metadata": {},
   "outputs": [],
   "source": [
    "# Load an image by providing the image name and class (class name)\n",
    "img = load_image(df.iloc[0]['image_name'], df.iloc[0]['class'])\n",
    "# Show the image\n",
    "show_image(img)"
   ]
  },
  {
   "cell_type": "code",
   "execution_count": null,
   "metadata": {},
   "outputs": [],
   "source": []
  }
 ],
 "metadata": {
  "kernelspec": {
   "display_name": "base",
   "language": "python",
   "name": "python3"
  },
  "language_info": {
   "codemirror_mode": {
    "name": "ipython",
    "version": 3
   },
   "file_extension": ".py",
   "mimetype": "text/x-python",
   "name": "python",
   "nbconvert_exporter": "python",
   "pygments_lexer": "ipython3",
   "version": "3.9.13"
  }
 },
 "nbformat": 4,
 "nbformat_minor": 2
}
