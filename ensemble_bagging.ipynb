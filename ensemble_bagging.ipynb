{
 "cells": [
  {
   "cell_type": "markdown",
   "metadata": {},
   "source": [
    "# Ensemble Method: Bagging\n",
    "## Using optimized models from earlier experiments"
   ]
  },
  {
   "cell_type": "code",
   "execution_count": 9,
   "metadata": {},
   "outputs": [],
   "source": [
    "from sklearn.ensemble import BaggingClassifier\n",
    "from sklearn.base import BaseEstimator\n",
    "from sklearn.naive_bayes import GaussianNB\n",
    "from sklearn.svm import SVC\n",
    "from sklearn.ensemble import RandomForestClassifier\n",
    "from sklearn.neural_network import MLPClassifier\n",
    "from sklearn.cluster import KMeans"
   ]
  },
  {
   "cell_type": "code",
   "execution_count": 10,
   "metadata": {},
   "outputs": [
    {
     "name": "stdout",
     "output_type": "stream",
     "text": [
      "(5335, 256) (5335,) (1334, 256) (1334,)\n"
     ]
    }
   ],
   "source": [
    "from common import load_image, show_image, load_data, split_data, validation_scores, merge_results\n",
    "\n",
    "# Load data\n",
    "df = load_data()\n",
    "\n",
    "# Split data\n",
    "X_train, X_test, y_train, y_test = split_data(df)\n",
    "# Preview shape of split data\n",
    "print(X_train.shape, y_train.shape, X_test.shape, y_test.shape)\n",
    "\n",
    "# Add cluster labels to features\n",
    "kmeans = KMeans(n_clusters=5, random_state=0)\n",
    "\n",
    "X_train['cluster'] = kmeans.fit_predict(X_train)\n",
    "X_test['cluster'] = kmeans.predict(X_test)"
   ]
  },
  {
   "cell_type": "code",
   "execution_count": 11,
   "metadata": {},
   "outputs": [],
   "source": [
    "# Base models with optimized parameters\n",
    "mlp = MLPClassifier(\n",
    "    activation='tanh', \n",
    "    alpha=0.01,\n",
    "    hidden_layer_sizes=(50,), \n",
    "    solver='adam', \n",
    "    max_iter=500\n",
    ")\n",
    "\n",
    "svm = SVC(\n",
    "    kernel='rbf', \n",
    "    C=10, \n",
    "    gamma=0.001, \n",
    "    probability=True\n",
    ")\n",
    "\n",
    "gnb = GaussianNB()\n",
    "\n",
    "# !!!\n",
    "rf = RandomForestClassifier(\n",
    "    n_estimators=100,\n",
    "    max_depth=10\n",
    ")\n",
    "\n",
    "# Setup bagged versions\n",
    "bagged_mlp = BaggingClassifier(base_estimator=mlp, n_estimators=10, random_state=42)\n",
    "bagged_svm = BaggingClassifier(base_estimator=svm, n_estimators=10, random_state=42)\n",
    "bagged_nb = BaggingClassifier(base_estimator=gnb, n_estimators=10, random_state=42)\n",
    "bagged_rf = BaggingClassifier(base_estimator=rf, n_estimators=10, random_state=42)"
   ]
  },
  {
   "cell_type": "code",
   "execution_count": 12,
   "metadata": {},
   "outputs": [],
   "source": [
    "# Combine them via the VotingClassifier\n",
    "from sklearn.ensemble import VotingClassifier\n",
    "\n",
    "# Use 'soft' voting for probability-based voting\n",
    "bagging_ensemble = VotingClassifier(estimators=[\n",
    "    ('mlp', bagged_mlp),\n",
    "    ('svm', bagged_svm),\n",
    "    ('nb', bagged_nb),\n",
    "    ('rf', bagged_rf)\n",
    "], voting='soft')\n"
   ]
  },
  {
   "cell_type": "code",
   "execution_count": 13,
   "metadata": {},
   "outputs": [],
   "source": [
    "from sklearn.pipeline import Pipeline\n",
    "from sklearn.decomposition import PCA\n",
    "from sklearn.feature_selection import VarianceThreshold\n",
    "from sklearn.preprocessing import StandardScaler\n",
    "\n",
    "# Define the pipeline\n",
    "pipeline = Pipeline([\n",
    "    ('scaler', StandardScaler()),  # Standard scaling\n",
    "    ('feature_selection', VarianceThreshold(threshold=0.4)),  # Variance-based feature selection\n",
    "    ('pca', PCA(n_components=32)),  # PCA for dimensionality reduction\n",
    "    ('model', bagging_ensemble)  # Final ensemble model\n",
    "])"
   ]
  },
  {
   "cell_type": "code",
   "execution_count": 14,
   "metadata": {},
   "outputs": [
    {
     "name": "stderr",
     "output_type": "stream",
     "text": [
      "c:\\Users\\sande\\anaconda3\\lib\\site-packages\\sklearn\\neural_network\\_multilayer_perceptron.py:692: ConvergenceWarning: Stochastic Optimizer: Maximum iterations (500) reached and the optimization hasn't converged yet.\n",
      "  warnings.warn(\n",
      "c:\\Users\\sande\\anaconda3\\lib\\site-packages\\sklearn\\neural_network\\_multilayer_perceptron.py:692: ConvergenceWarning: Stochastic Optimizer: Maximum iterations (500) reached and the optimization hasn't converged yet.\n",
      "  warnings.warn(\n",
      "c:\\Users\\sande\\anaconda3\\lib\\site-packages\\sklearn\\neural_network\\_multilayer_perceptron.py:692: ConvergenceWarning: Stochastic Optimizer: Maximum iterations (500) reached and the optimization hasn't converged yet.\n",
      "  warnings.warn(\n",
      "c:\\Users\\sande\\anaconda3\\lib\\site-packages\\sklearn\\neural_network\\_multilayer_perceptron.py:692: ConvergenceWarning: Stochastic Optimizer: Maximum iterations (500) reached and the optimization hasn't converged yet.\n",
      "  warnings.warn(\n",
      "c:\\Users\\sande\\anaconda3\\lib\\site-packages\\sklearn\\neural_network\\_multilayer_perceptron.py:692: ConvergenceWarning: Stochastic Optimizer: Maximum iterations (500) reached and the optimization hasn't converged yet.\n",
      "  warnings.warn(\n",
      "c:\\Users\\sande\\anaconda3\\lib\\site-packages\\sklearn\\neural_network\\_multilayer_perceptron.py:692: ConvergenceWarning: Stochastic Optimizer: Maximum iterations (500) reached and the optimization hasn't converged yet.\n",
      "  warnings.warn(\n",
      "c:\\Users\\sande\\anaconda3\\lib\\site-packages\\sklearn\\neural_network\\_multilayer_perceptron.py:692: ConvergenceWarning: Stochastic Optimizer: Maximum iterations (500) reached and the optimization hasn't converged yet.\n",
      "  warnings.warn(\n"
     ]
    },
    {
     "data": {
      "text/html": [
       "<div>\n",
       "<style scoped>\n",
       "    .dataframe tbody tr th:only-of-type {\n",
       "        vertical-align: middle;\n",
       "    }\n",
       "\n",
       "    .dataframe tbody tr th {\n",
       "        vertical-align: top;\n",
       "    }\n",
       "\n",
       "    .dataframe thead th {\n",
       "        text-align: right;\n",
       "    }\n",
       "</style>\n",
       "<table border=\"1\" class=\"dataframe\">\n",
       "  <thead>\n",
       "    <tr style=\"text-align: right;\">\n",
       "      <th></th>\n",
       "      <th>Accuracy</th>\n",
       "      <th>f1 Score</th>\n",
       "      <th>ROC AUC</th>\n",
       "    </tr>\n",
       "  </thead>\n",
       "  <tbody>\n",
       "    <tr>\n",
       "      <th>0</th>\n",
       "      <td>0.89955</td>\n",
       "      <td>0.899692</td>\n",
       "      <td>0.988365</td>\n",
       "    </tr>\n",
       "  </tbody>\n",
       "</table>\n",
       "</div>"
      ],
      "text/plain": [
       "   Accuracy  f1 Score   ROC AUC\n",
       "0   0.89955  0.899692  0.988365"
      ]
     },
     "execution_count": 14,
     "metadata": {},
     "output_type": "execute_result"
    }
   ],
   "source": [
    "from sklearn.model_selection import cross_val_score\n",
    "from sklearn.metrics import accuracy_score, f1_score, roc_auc_score\n",
    "import pandas as pd\n",
    "\n",
    "# Example evaluation\n",
    "pipeline.fit(X_train, y_train)\n",
    "\n",
    "y_pred = pipeline.predict(X_test)\n",
    "y_pred_proba = pipeline.predict_proba(X_test)\n",
    "best_acc = accuracy_score(y_test, y_pred)\n",
    "best_f1 = f1_score(y_test, y_pred, average='weighted')\n",
    "best_roc_auc = roc_auc_score(y_test, y_pred_proba, multi_class='ovr')\n",
    "\n",
    "best_scores = pd.DataFrame({\n",
    "    'Accuracy': [best_acc],\n",
    "    'f1 Score': [best_f1],\n",
    "    'ROC AUC': [best_roc_auc]\n",
    "})\n",
    "\n",
    "best_scores\n"
   ]
  },
  {
   "cell_type": "code",
   "execution_count": 16,
   "metadata": {},
   "outputs": [],
   "source": [
    "test_feature_data = pd.read_csv('data/test_feature_data.csv')\n",
    "sample_submission = pd.read_csv('data/sample_submission.csv')\n",
    "\n",
    "test_feature_data['cluster'] = kmeans.predict(test_feature_data)\n",
    "predictions = pipeline.predict(test_feature_data)\n",
    "\n",
    "# Create a submission DataFrame following the format of sample_submission.csv\n",
    "submission = sample_submission.copy()\n",
    "submission['prediction'] = predictions\n",
    "\n",
    "# Save the submission to a CSV file\n",
    "submission.to_csv('final_submission.csv', index=False)"
   ]
  },
  {
   "cell_type": "markdown",
   "metadata": {},
   "source": []
  }
 ],
 "metadata": {
  "kernelspec": {
   "display_name": "base",
   "language": "python",
   "name": "python3"
  },
  "language_info": {
   "codemirror_mode": {
    "name": "ipython",
    "version": 3
   },
   "file_extension": ".py",
   "mimetype": "text/x-python",
   "name": "python",
   "nbconvert_exporter": "python",
   "pygments_lexer": "ipython3",
   "version": "3.9.13"
  }
 },
 "nbformat": 4,
 "nbformat_minor": 2
}
